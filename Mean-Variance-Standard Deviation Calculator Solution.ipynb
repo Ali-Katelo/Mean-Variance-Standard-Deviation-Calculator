{
  "metadata": {
    "kernelspec": {
      "name": "python",
      "display_name": "Python (Pyodide)",
      "language": "python"
    },
    "language_info": {
      "codemirror_mode": {
        "name": "python",
        "version": 3
      },
      "file_extension": ".py",
      "mimetype": "text/x-python",
      "name": "python",
      "nbconvert_exporter": "python",
      "pygments_lexer": "ipython3",
      "version": "3.8"
    }
  },
  "nbformat_minor": 4,
  "nbformat": 4,
  "cells": [
    {
      "cell_type": "code",
      "source": "import numpy as np\n\ndef calculate(list):\n  if len(list) != 9:\n    raise ValueError(\"List must contain nine numbers.\")\n  matrix = np.array(list).reshape((3, 3))\n  \n  # Calculate the mean, variance, standard deviation, max, min, and sum of the matrix\n  # along both axes and for the flattened matrix\n  mean = [matrix.mean(axis=0).tolist(), matrix.mean(axis=1).tolist(), matrix.mean()]\n  variance = [matrix.var(axis=0).tolist(), matrix.var(axis=1).tolist(), matrix.var()]\n  std = [matrix.std(axis=0).tolist(), matrix.std(axis=1).tolist(), matrix.std()]\n  max = [matrix.max(axis=0).tolist(), matrix.max(axis=1).tolist(), matrix.max()]\n  min = [matrix.min(axis=0).tolist(), matrix.min(axis=1).tolist(), matrix.min()]\n  sum = [matrix.sum(axis=0).tolist(), matrix.sum(axis=1).tolist(), matrix.sum()]\n\n  # Return the results in a dictionary\n  calculations = {\n    'mean': mean,\n    'variance': variance,\n    'standard deviation': std,\n    'max': max,\n    'min': min,\n    'sum': sum\n  }\n\n  return calculations\n",
      "metadata": {
        "trusted": true
      },
      "outputs": [],
      "execution_count": null
    }
  ]
}